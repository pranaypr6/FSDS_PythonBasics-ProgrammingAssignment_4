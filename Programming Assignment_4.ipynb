{
 "cells": [
  {
   "cell_type": "code",
   "execution_count": 3,
   "metadata": {},
   "outputs": [
    {
     "name": "stdout",
     "output_type": "stream",
     "text": [
      "Enter a number :5\n",
      "Factorial of 5 is :  120\n"
     ]
    }
   ],
   "source": [
    "# 1. Write a Python Program to Find the Factorial of a Number?\n",
    "\n",
    "def fact(n):\n",
    "    if n==1:\n",
    "        return 1\n",
    "    else:\n",
    "        return n * fact(n-1)\n",
    "\n",
    "n = int(input(\"Enter a number :\"))\n",
    "print(f\"Factorial of {n} is : \",fact(n))"
   ]
  },
  {
   "cell_type": "code",
   "execution_count": 6,
   "metadata": {},
   "outputs": [
    {
     "name": "stdout",
     "output_type": "stream",
     "text": [
      "Enter a number :11\n",
      "11 x 1 = 11\n",
      "11 x 2 = 22\n",
      "11 x 3 = 33\n",
      "11 x 4 = 44\n",
      "11 x 5 = 55\n",
      "11 x 6 = 66\n",
      "11 x 7 = 77\n",
      "11 x 8 = 88\n",
      "11 x 9 = 99\n",
      "11 x 10 = 110\n"
     ]
    }
   ],
   "source": [
    "# 2. Write a Python Program to Display the multiplication Table?\n",
    "\n",
    "n = int(input(\"Enter a number :\"))\n",
    "\n",
    "for i in range(1,11):\n",
    "    print(f\"{n} x {i} =\",n*i)"
   ]
  },
  {
   "cell_type": "code",
   "execution_count": 17,
   "metadata": {},
   "outputs": [
    {
     "name": "stdout",
     "output_type": "stream",
     "text": [
      "Enter a number :7\n",
      "0\n",
      "1\n",
      "1\n",
      "2\n",
      "3\n",
      "5\n",
      "8\n"
     ]
    }
   ],
   "source": [
    "# 3. Write a Python Program to Print the Fibonacci sequence?\n",
    "\n",
    "n = int(input(\"Enter a number :\"))\n",
    "a = 0\n",
    "b = 1\n",
    "for i in range(n):\n",
    "    print(a)\n",
    "    c = a+b\n",
    "    a = b\n",
    "    b = c\n",
    "    "
   ]
  },
  {
   "cell_type": "code",
   "execution_count": 22,
   "metadata": {},
   "outputs": [
    {
     "name": "stdout",
     "output_type": "stream",
     "text": [
      "Enter a number :371\n",
      "371\n",
      "It is an Armstrong Number\n"
     ]
    }
   ],
   "source": [
    "# 4. Write a Python Program to Check Armstrong Number?\n",
    "\n",
    "n = int(input(\"Enter a number :\"))\n",
    "s = 0\n",
    "for d in str(n):\n",
    "    s += int(d)**3\n",
    "print(s)\n",
    "if s==n:\n",
    "    print(\"It is an Armstrong Number\")\n",
    "else:\n",
    "    print(\"It is not an Armstrong Number\")"
   ]
  },
  {
   "cell_type": "code",
   "execution_count": 26,
   "metadata": {},
   "outputs": [
    {
     "name": "stdout",
     "output_type": "stream",
     "text": [
      "Enter a number :1000\n",
      "0\n",
      "1\n",
      "153\n",
      "370\n",
      "371\n",
      "407\n"
     ]
    }
   ],
   "source": [
    "# 5. Write a Python Program to Find Armstrong Number in an Interval?\n",
    "\n",
    "n = int(input(\"Enter a number :\"))\n",
    "\n",
    "for i in range(n):\n",
    "    s = 0\n",
    "    for d in str(i):\n",
    "        s += int(d)**3\n",
    "    if s==i:\n",
    "        print(i)\n",
    "    "
   ]
  },
  {
   "cell_type": "code",
   "execution_count": 31,
   "metadata": {},
   "outputs": [
    {
     "name": "stdout",
     "output_type": "stream",
     "text": [
      "Enter a number : 50\n",
      "1275\n"
     ]
    }
   ],
   "source": [
    "# 6. Write a Python Program to Find the Sum of Natural Numbers?\n",
    "\n",
    "n = int(input(\"Enter a number : \"))\n",
    "\n",
    "s = 0\n",
    "for i in range(n+1):\n",
    "    s += i\n",
    "    \n",
    "print(s)\n"
   ]
  }
 ],
 "metadata": {
  "kernelspec": {
   "display_name": "Python 3",
   "language": "python",
   "name": "python3"
  },
  "language_info": {
   "codemirror_mode": {
    "name": "ipython",
    "version": 3
   },
   "file_extension": ".py",
   "mimetype": "text/x-python",
   "name": "python",
   "nbconvert_exporter": "python",
   "pygments_lexer": "ipython3",
   "version": "3.8.5"
  }
 },
 "nbformat": 4,
 "nbformat_minor": 4
}
